{
 "cells": [
  {
   "cell_type": "code",
   "execution_count": 1,
   "metadata": {},
   "outputs": [],
   "source": [
    "import matplotlib.pyplot as plt\n",
    "import SimpleITK as sitk\n",
    "from ipywidgets import interact, interactive, IntSlider, ToggleButtons"
   ]
  },
  {
   "cell_type": "code",
   "execution_count": 2,
   "metadata": {},
   "outputs": [],
   "source": [
    "def read_img_sitk(img_path: str):\n",
    "    return sitk.ReadImage(img_path)"
   ]
  },
  {
   "cell_type": "code",
   "execution_count": 3,
   "metadata": {},
   "outputs": [
    {
     "data": {
      "application/vnd.jupyter.widget-view+json": {
       "model_id": "5c735b9da6e1474a8d01505710a10230",
       "version_major": 2,
       "version_minor": 0
      },
      "text/plain": [
       "interactive(children=(IntSlider(value=77, description='layer', max=154), Dropdown(description='modality', opti…"
      ]
     },
     "metadata": {},
     "output_type": "display_data"
    }
   ],
   "source": [
    "@interact\n",
    "def generate_3d_image(\n",
    "    layer = (0, 154),\n",
    "    modality=[\"t1\", \"t2\", \"t1ce\", \"flair\"],\n",
    "    view = [\"axial\", \"sagittal\", \"coronal\"],\n",
    "    patient = (253, 253)\n",
    "):\n",
    "    if modality == \"t1\":\n",
    "        modal = \"t1\"\n",
    "    if modality == \"t2\":\n",
    "        modal = \"t2\"\n",
    "    if modality == \"t1ce\":\n",
    "        modal = \"t1ce\"\n",
    "    if modality == \"flair\":\n",
    "        modal = \"flair\"\n",
    "    else:\n",
    "        #raise ValueError(f\"modality not inside of accepted values: {modality}\")\n",
    "        pass\n",
    "    data_paths = {\n",
    "        253: {\n",
    "            \"t1\":\"../../../database/BraTS2021_00253/BraTS2021_00253_t1.nii.gz\",\n",
    "            \"t2\":\"../../../database/BraTS2021_00253/BraTS2021_00253_t2.nii.gz\",\n",
    "            \"t1ce\":\"../../../database/BraTS2021_00253/BraTS2021_00253_t1ce.nii.gz\",\n",
    "            \"flair\": \"../../../database/BraTS2021_00253/BraTS2021_00253_flair.nii.gz\"\n",
    "        }\n",
    "    }\n",
    "    image = read_img_sitk(data_paths[patient][modal])\n",
    "    print(image.GetSize())\n",
    "    array_view = sitk.GetArrayViewFromImage(image)\n",
    "    if view == \"axial\":\n",
    "        array_view = array_view[layer, :, :]\n",
    "    elif view == \"coronal\":\n",
    "        array_view = array_view[:, layer, :]\n",
    "    elif view == \"sagittal\":\n",
    "        array_view = array_view[:, :, layer]\n",
    "    else:\n",
    "        #raise ValueError(f\"view not inside of accepted values: {view}\")\n",
    "        pass\n",
    "\n",
    "    plt.figure(figsize=(10, 5))\n",
    "    plt.imshow(array_view, cmap=\"gray\")\n",
    "    plt.show()"
   ]
  },
  {
   "cell_type": "code",
   "execution_count": null,
   "metadata": {},
   "outputs": [],
   "source": [
    "import numpy as np"
   ]
  },
  {
   "cell_type": "code",
   "execution_count": null,
   "metadata": {},
   "outputs": [],
   "source": [
    "x1 = np.array([[1, 2], [3, 4]])\n",
    "x2 = np.array([[5, 6], [7, 8]])\n",
    "x3 = np.array([[9, 10], [11, 12]])\n",
    "y = [x1, x2, x3]"
   ]
  },
  {
   "cell_type": "code",
   "execution_count": null,
   "metadata": {},
   "outputs": [],
   "source": [
    "from typing import List\n",
    "def concatenate_voxel(*voxels: List[np.ndarray]) -> np.ndarray:\n",
    "    return np.concatenate(\n",
    "        [*voxels], axis=-1\n",
    "    )"
   ]
  },
  {
   "cell_type": "code",
   "execution_count": null,
   "metadata": {},
   "outputs": [],
   "source": [
    "voxels = concatenate_voxel(y)"
   ]
  },
  {
   "cell_type": "code",
   "execution_count": null,
   "metadata": {},
   "outputs": [],
   "source": [
    "voxels.shape"
   ]
  },
  {
   "cell_type": "code",
   "execution_count": 10,
   "metadata": {},
   "outputs": [],
   "source": [
    "import numpy as np"
   ]
  },
  {
   "cell_type": "code",
   "execution_count": 13,
   "metadata": {},
   "outputs": [],
   "source": [
    "import sys\n",
    "sys.path.append(\"/home/nakano/unicamp/master/MO444/project/machine_learning_final_project/src/utils/viewers\")"
   ]
  },
  {
   "cell_type": "code",
   "execution_count": 14,
   "metadata": {},
   "outputs": [],
   "source": [
    "import viewer_2d"
   ]
  },
  {
   "cell_type": "code",
   "execution_count": 11,
   "metadata": {},
   "outputs": [],
   "source": [
    "x = np.load(\"/home/nakano/unicamp/master/MO444/project/machine_learning_final_project/result_images/BraTS2021_01651_flairnpy.npy\")"
   ]
  },
  {
   "cell_type": "code",
   "execution_count": null,
   "metadata": {},
   "outputs": [],
   "source": []
  }
 ],
 "metadata": {
  "kernelspec": {
   "display_name": "Python 3.8.10 ('mlfp')",
   "language": "python",
   "name": "python3"
  },
  "language_info": {
   "codemirror_mode": {
    "name": "ipython",
    "version": 3
   },
   "file_extension": ".py",
   "mimetype": "text/x-python",
   "name": "python",
   "nbconvert_exporter": "python",
   "pygments_lexer": "ipython3",
   "version": "3.8.10"
  },
  "orig_nbformat": 4,
  "vscode": {
   "interpreter": {
    "hash": "4914538d36fe03667250f1d564f7e63fa636607b484d08be25619de4055fb424"
   }
  }
 },
 "nbformat": 4,
 "nbformat_minor": 2
}
